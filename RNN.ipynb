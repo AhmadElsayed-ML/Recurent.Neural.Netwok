{
  "cells": [
    {
      "cell_type": "code",
      "execution_count": null,
      "metadata": {
        "id": "Psx6S7ZnOIkx"
      },
      "outputs": [],
      "source": [
        "from keras.datasets import imdb\n",
        "from keras.preprocessing import sequence\n",
        "import tensorflow as tf\n",
        "import os\n",
        "import numpy as np\n",
        "import keras\n",
        "\n",
        "VOCAB_SIZE= 88584\n",
        "MAXLEN = 250\n",
        "BATCH_SIZE = 64\n",
        "(train_data, train_labels), (test_data, test_labels) = imdb.load_data(num_words = VOCAB_SIZE)"
      ]
    },
    {
      "cell_type": "code",
      "execution_count": null,
      "metadata": {
        "colab": {
          "base_uri": "https://localhost:8080/"
        },
        "id": "FImQBrG9YEKV",
        "outputId": "0fecd098-3c8d-47e2-d0bc-a11a5b6ab256"
      },
      "outputs": [
        {
          "output_type": "execute_result",
          "data": {
            "text/plain": [
              "189"
            ]
          },
          "metadata": {},
          "execution_count": 2
        }
      ],
      "source": [
        "len(train_data[1])"
      ]
    },
    {
      "cell_type": "code",
      "execution_count": null,
      "metadata": {
        "colab": {
          "base_uri": "https://localhost:8080/"
        },
        "id": "R4EIEj_RYRl_",
        "outputId": "49dd2bad-6d87-4b6b-bb7b-33e0ed6c1ac8"
      },
      "outputs": [
        {
          "output_type": "execute_result",
          "data": {
            "text/plain": [
              "250"
            ]
          },
          "metadata": {},
          "execution_count": 3
        }
      ],
      "source": [
        "train_data = sequence.pad_sequences(train_data, MAXLEN)\n",
        "test_data = sequence.pad_sequences(test_data, MAXLEN)\n",
        "len(train_data[1])\n"
      ]
    },
    {
      "cell_type": "code",
      "execution_count": null,
      "metadata": {
        "id": "7VUSPIR3Y7DF"
      },
      "outputs": [],
      "source": [
        "model= tf.keras.Sequential([\n",
        "    tf.keras.layers.Embedding(VOCAB_SIZE, 32),\n",
        "    tf.keras.layers.LSTM(32),\n",
        "    tf.keras.layers.Dense(1, activation='sigmoid')\n",
        "])"
      ]
    },
    {
      "cell_type": "code",
      "execution_count": null,
      "metadata": {
        "colab": {
          "base_uri": "https://localhost:8080/"
        },
        "id": "JYKwTWroZpP-",
        "outputId": "8264c60b-717a-4d21-c528-56aa062fb39c"
      },
      "outputs": [
        {
          "output_type": "stream",
          "name": "stdout",
          "text": [
            "Model: \"sequential\"\n",
            "_________________________________________________________________\n",
            " Layer (type)                Output Shape              Param #   \n",
            "=================================================================\n",
            " embedding (Embedding)       (None, None, 32)          2834688   \n",
            "                                                                 \n",
            " lstm (LSTM)                 (None, 32)                8320      \n",
            "                                                                 \n",
            " dense (Dense)               (None, 1)                 33        \n",
            "                                                                 \n",
            "=================================================================\n",
            "Total params: 2843041 (10.85 MB)\n",
            "Trainable params: 2843041 (10.85 MB)\n",
            "Non-trainable params: 0 (0.00 Byte)\n",
            "_________________________________________________________________\n"
          ]
        }
      ],
      "source": [
        "model.summary()"
      ]
    },
    {
      "cell_type": "code",
      "execution_count": null,
      "metadata": {
        "colab": {
          "base_uri": "https://localhost:8080/"
        },
        "id": "-9q4eCw_Z4Bf",
        "outputId": "e0f5cb57-c72b-4a17-b091-76db852be6cc"
      },
      "outputs": [
        {
          "output_type": "stream",
          "name": "stdout",
          "text": [
            "Epoch 1/10\n",
            "625/625 [==============================] - 68s 105ms/step - loss: 0.4486 - acc: 0.7872 - val_loss: 0.3115 - val_acc: 0.8708\n",
            "Epoch 2/10\n",
            "625/625 [==============================] - 64s 103ms/step - loss: 0.2683 - acc: 0.8952 - val_loss: 0.2869 - val_acc: 0.8878\n",
            "Epoch 3/10\n",
            "625/625 [==============================] - 64s 102ms/step - loss: 0.2038 - acc: 0.9241 - val_loss: 0.2911 - val_acc: 0.8890\n",
            "Epoch 4/10\n",
            "625/625 [==============================] - 63s 101ms/step - loss: 0.1598 - acc: 0.9431 - val_loss: 0.2969 - val_acc: 0.8806\n",
            "Epoch 5/10\n",
            "625/625 [==============================] - 63s 101ms/step - loss: 0.1357 - acc: 0.9551 - val_loss: 0.3296 - val_acc: 0.8780\n",
            "Epoch 6/10\n",
            "625/625 [==============================] - 66s 105ms/step - loss: 0.1110 - acc: 0.9635 - val_loss: 0.3381 - val_acc: 0.8888\n",
            "Epoch 7/10\n",
            "625/625 [==============================] - 63s 101ms/step - loss: 0.0925 - acc: 0.9701 - val_loss: 0.4386 - val_acc: 0.8820\n",
            "Epoch 8/10\n",
            "625/625 [==============================] - 63s 101ms/step - loss: 0.0794 - acc: 0.9741 - val_loss: 0.3913 - val_acc: 0.8802\n",
            "Epoch 9/10\n",
            "625/625 [==============================] - 65s 104ms/step - loss: 0.0674 - acc: 0.9794 - val_loss: 0.3869 - val_acc: 0.8762\n",
            "Epoch 10/10\n",
            "625/625 [==============================] - 63s 101ms/step - loss: 0.0596 - acc: 0.9823 - val_loss: 0.3929 - val_acc: 0.8670\n"
          ]
        }
      ],
      "source": [
        "model.compile(loss='binary_crossentropy', optimizer='rmsprop', metrics=['acc'])\n",
        "hitory = model.fit(train_data, train_labels, epochs = 10 , validation_split=0.2)"
      ]
    },
    {
      "cell_type": "code",
      "execution_count": null,
      "metadata": {
        "colab": {
          "base_uri": "https://localhost:8080/"
        },
        "id": "y-h9wAlshLM4",
        "outputId": "8595f792-7087-45b7-9e5b-19b297802b14"
      },
      "outputs": [
        {
          "output_type": "stream",
          "name": "stdout",
          "text": [
            "782/782 [==============================] - 20s 26ms/step - loss: 0.4591 - acc: 0.8573\n",
            "[0.45905601978302, 0.8572800159454346]\n"
          ]
        }
      ],
      "source": [
        "results = model.evaluate(test_data, test_labels)\n",
        "print(results)"
      ]
    },
    {
      "cell_type": "code",
      "source": [
        "word_index = imdb.get_word_index()\n",
        "\n",
        "def encode_text(text):\n",
        "  tokens = keras.preprocessing.text.text_to_word_sequence(text)\n",
        "  tokens = [word_index[word] if word in word_index else 0 for word in tokens]\n",
        "  return sequence.pad_sequences([tokens], MAXLEN)[0]\n",
        "\n",
        "text = 'that movie was just amazing , so amazing'\n",
        "encoded = encode_text(text)\n",
        "print(encoded)"
      ],
      "metadata": {
        "colab": {
          "base_uri": "https://localhost:8080/"
        },
        "id": "SLAGnw8p_wr5",
        "outputId": "ee18a5e0-c186-4da1-b47f-ce100a95f20d"
      },
      "execution_count": null,
      "outputs": [
        {
          "output_type": "stream",
          "name": "stdout",
          "text": [
            "[  0   0   0   0   0   0   0   0   0   0   0   0   0   0   0   0   0   0\n",
            "   0   0   0   0   0   0   0   0   0   0   0   0   0   0   0   0   0   0\n",
            "   0   0   0   0   0   0   0   0   0   0   0   0   0   0   0   0   0   0\n",
            "   0   0   0   0   0   0   0   0   0   0   0   0   0   0   0   0   0   0\n",
            "   0   0   0   0   0   0   0   0   0   0   0   0   0   0   0   0   0   0\n",
            "   0   0   0   0   0   0   0   0   0   0   0   0   0   0   0   0   0   0\n",
            "   0   0   0   0   0   0   0   0   0   0   0   0   0   0   0   0   0   0\n",
            "   0   0   0   0   0   0   0   0   0   0   0   0   0   0   0   0   0   0\n",
            "   0   0   0   0   0   0   0   0   0   0   0   0   0   0   0   0   0   0\n",
            "   0   0   0   0   0   0   0   0   0   0   0   0   0   0   0   0   0   0\n",
            "   0   0   0   0   0   0   0   0   0   0   0   0   0   0   0   0   0   0\n",
            "   0   0   0   0   0   0   0   0   0   0   0   0   0   0   0   0   0   0\n",
            "   0   0   0   0   0   0   0   0   0   0   0   0   0   0   0   0   0   0\n",
            "   0   0   0   0   0   0   0   0   0  12  17  13  40 477  35 477]\n"
          ]
        }
      ]
    },
    {
      "cell_type": "code",
      "source": [
        "reverse_word_index = {value: key for (key, value) in word_index.items()}\n",
        "\n",
        "def decode_integers(integers):\n",
        "  PAD =0\n",
        "  text =\"\"\n",
        "  for num in integers:\n",
        "    if num != PAD:\n",
        "      text += reverse_word_index[num] + \" \"\n",
        "  return text[:-1]\n",
        "\n",
        "print(decode_integers(encoded))"
      ],
      "metadata": {
        "colab": {
          "base_uri": "https://localhost:8080/"
        },
        "id": "NPLICJk7BTTO",
        "outputId": "204b4a0f-1baa-4ed4-8129-dfe728945584"
      },
      "execution_count": null,
      "outputs": [
        {
          "output_type": "stream",
          "name": "stdout",
          "text": [
            "that movie was just amazing so amazing\n"
          ]
        }
      ]
    },
    {
      "cell_type": "code",
      "source": [
        "def predict(text):\n",
        "  encoded_text = encode_text(text)\n",
        "  pred= np.zeros((1,250))\n",
        "  pred[0]= encoded_text\n",
        "  result = model.predict(pred)\n",
        "  print(result[0])\n",
        "\n",
        "positive_review = \"that movie was so awesome! I really loved it and would watch it again because it was amazingly great \"\n",
        "predict(positive_review)\n",
        "\n",
        "negative_review = \"that movie sucked. Ihated it and wouldn't watch it again. Was one of the worst things I've ever watched\"\n",
        "predict(negative_review)\n",
        "\n"
      ],
      "metadata": {
        "colab": {
          "base_uri": "https://localhost:8080/"
        },
        "id": "8fK-WMXACpKQ",
        "outputId": "6d7fd27a-3277-47a0-8524-b2c93ac7e787"
      },
      "execution_count": null,
      "outputs": [
        {
          "output_type": "stream",
          "name": "stdout",
          "text": [
            "1/1 [==============================] - 1s 505ms/step\n",
            "[0.79605526]\n",
            "1/1 [==============================] - 0s 52ms/step\n",
            "[0.17543967]\n"
          ]
        }
      ]
    }
  ],
  "metadata": {
    "colab": {
      "provenance": [],
      "authorship_tag": "ABX9TyPJCFCvCGMM703dWS0iooHl"
    },
    "kernelspec": {
      "display_name": "Python 3",
      "name": "python3"
    },
    "language_info": {
      "name": "python"
    }
  },
  "nbformat": 4,
  "nbformat_minor": 0
}